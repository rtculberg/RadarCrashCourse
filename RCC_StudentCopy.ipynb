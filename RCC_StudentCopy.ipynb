{
 "cells": [
  {
   "cell_type": "markdown",
   "id": "14de3406-2de3-412a-99c9-4d0f0d24214b",
   "metadata": {},
   "source": [
    "# Radar Processing"
   ]
  },
  {
   "cell_type": "code",
   "execution_count": 1,
   "id": "51985473-e4e7-452f-ba54-a800252ae436",
   "metadata": {},
   "outputs": [],
   "source": [
    "%matplotlib widget\n",
    "import numpy as np\n",
    "import scipy as sc\n",
    "import pandas as pd\n",
    "import matplotlib.pyplot as plt\n",
    "import cmath\n",
    "import mat73\n",
    "import SurfaceRetrackers as tracker"
   ]
  },
  {
   "cell_type": "code",
   "execution_count": 2,
   "id": "fde3bb38-b37b-4e5d-8905-c553385928ae",
   "metadata": {},
   "outputs": [],
   "source": [
    "# Physical constants\n",
    "c = 299792458."
   ]
  },
  {
   "cell_type": "markdown",
   "id": "47314c78-7776-40a8-ab8b-8fc051fb282c",
   "metadata": {},
   "source": [
    "## Pulse Compression, Sidelobes, and Resolution"
   ]
  },
  {
   "cell_type": "markdown",
   "id": "5d986f9f-2938-45fd-ba3d-7caa00e7166e",
   "metadata": {},
   "source": [
    "In this section, you will see how the radar bandwidth and windowing function impact the detectability of subsurface layers after pulse compression. The code block below instantiates some helper functions to generate the transmitted radar pulse and simulated received echo. Make sure you run this code block to get access to these functions. "
   ]
  },
  {
   "cell_type": "code",
   "execution_count": 3,
   "id": "fcf36927-dd9e-4765-be81-f9e1e79c0255",
   "metadata": {},
   "outputs": [],
   "source": [
    "# Helper Functions\n",
    "\n",
    "def SingleSideBand(slope, tau, Fs, Fc, phi):\n",
    "    npts = np.rint(tau*Fs).astype(int)\n",
    "    t = np.linspace(0,tau,npts)\n",
    "    phase =(np.pi*slope*(t**2))+(2*np.pi*Fc*t) + phi\n",
    "    data = np.exp(phase*1j)\n",
    "    return t, data\n",
    "\n",
    "def PulseCompressSimSignal(surface_amp, surface_dist, subsurface_amp, subsurface_dist, window, chirp):\n",
    "    if window == \"boxcar\":\n",
    "        ref = chirp\n",
    "    elif window == \"hanning\":\n",
    "        ref = chirp*sc.signal.windows.hann(chirp.shape[0])\n",
    "    elif window == \"tukey\":\n",
    "        ref = chirp*sc.signal.windows.tukey(chirp.shape[0], 0.2)\n",
    "    elif window == \"blackman\":\n",
    "        ref = chirp*sc.signal.windows.blackman(chirp.shape[0])\n",
    "\n",
    "    surface_t = 2*surface_dist/c\n",
    "    subsurface_t = 2*(surface_dist + subsurface_dist)/c\n",
    "\n",
    "    time = np.arange(0, 1e-5, 1/Fs)\n",
    "    noise = np.random.randn(time.shape[0]) + 1j*np.random.randn(time.shape[0])\n",
    "\n",
    "    surf_ind = np.argmin(np.abs(time - surface_t))\n",
    "    subsurf_ind = np.argmin(np.abs(time - subsurface_t))\n",
    "\n",
    "    signal = noise\n",
    "    signal[surf_ind:surf_ind+ref.shape[0]] = signal[surf_ind:surf_ind+ref.shape[0]] + surface_amp*ref\n",
    "    signal[subsurf_ind:subsurf_ind+ref.shape[0]] = signal[subsurf_ind:subsurf_ind+ref.shape[0]] + subsurface_amp*ref\n",
    "\n",
    "    pc_signal = np.fft.ifft(np.conj(np.fft.fft(ref, signal.shape[0]))*np.fft.fft(signal))\n",
    "    return time, pc_signal"
   ]
  },
  {
   "cell_type": "markdown",
   "id": "5ae7ac79-4d9f-4d6a-b7ed-5f5f5a5339fa",
   "metadata": {},
   "source": [
    "The code below simulates the radar echoes from the ice sheet surface and a single englacial layer at some distance `subsurface_dist` below the surface. The code block generates a plot that shows the pulse compressed signal with dashed black lines marking the theoretical positions of the surface and subsurface reflectors. Play around with the radar and subsurface parameters to learn more about how bandwidth, sidelobes, and windowing affect our ability to detect subsurface targets. \n",
    "\n",
    "#### Bandwidth:\n",
    "Set `subsurface_dist = 5` and test some different radar bandwidths (`BW`) between 30 MHz and 100 MHz. What is the lowest bandwidth you can pick where the reflection from the englacial layer is still clearly distinguishable?  \n",
    "\n",
    "#### Sidelobes & Windowing:\n",
    "One of the reasons that we usually want to supress sidelobes is because they can prevent us from seeing weak reflections from layers that are close to strong reflectors - for example, a weakly reflecting englacial layer just below the surface. Set `subsurface_amp = 0.3` and `subsurface_dist = 10`. Set `BW = 50e6`. Try each of the four different window options (boxcar, hanning, tukey, and blackman). Which window seems to be the best for detecting this englacial layer? Why do you think that the other windows are not successful?"
   ]
  },
  {
   "cell_type": "code",
   "execution_count": null,
   "id": "bc9f7c9c-6055-49c9-8c5d-55207993d40c",
   "metadata": {},
   "outputs": [],
   "source": [
    "# Subsurface parameters\n",
    "surface_amp = 10          # Peak amplitude of surface reflector\n",
    "surface_dist = 500        # Distance from airplane to surface in meters\n",
    "subsurface_amp = 2        # Peak amplitude of englacial reflection\n",
    "subsurface_dist = 50      # Englacial reflector distance below the surface in meters\n",
    "\n",
    "# Radar Parameters\n",
    "tau = 1.e-6               # Pulse width (seconds)\n",
    "Fs = 1e9                  # Sampling rate\n",
    "Fc = 0                    # Center frequency (Hz)\n",
    "BW = 30e6                 # Bandwidth (Hz)\n",
    "slope = BW/tau            # Chirp rate\n",
    "phi = 0                   # Initial phase (radians)\n",
    "window = \"tukey\"         # Windowing function; Other options: \"hanning\", \"tukey\", \"blackman\" \n",
    "\n",
    "t, chirp = SingleSideBand(slope, tau, Fs, Fc, phi)\n",
    "time, pc_signal = PulseCompressSimSignal(surface_amp, surface_dist, subsurface_amp, subsurface_dist, window, chirp)\n",
    "\n",
    "surface_t = 2*surface_dist/c\n",
    "subsurface_t = 2*(surface_dist + subsurface_dist)/c\n",
    "\n",
    "plt.close(\"all\")\n",
    "fig, ax = plt.subplots(layout=\"constrained\")\n",
    "ax.vlines(surface_t, 0, 85, 'k', linestyle=\":\")\n",
    "ax.vlines(subsurface_t, 0, 85, 'k', linestyle=\":\")\n",
    "ax.plot(time, 10*np.log10(np.abs(pc_signal)**2))\n",
    "ax.set_xlabel(\"Time (seconds)\")\n",
    "ax.set_ylabel(\"Power (dB)\")\n",
    "ax.set_xlim((surface_t - 1e-6, surface_t + 2e-6))\n",
    "plt.show()"
   ]
  },
  {
   "cell_type": "markdown",
   "id": "fab6b1f8-d6a1-4752-af9b-7e0310e80c39",
   "metadata": {},
   "source": [
    "## Azimuth Processing - Coherent and Incoherent Stacking"
   ]
  },
  {
   "cell_type": "markdown",
   "id": "abad2337-7eab-4995-ac77-0f3acbe0d3ad",
   "metadata": {},
   "source": [
    "The code block below loads and visualizes a pulse-compressed radargram from central East Antarctica. In the next code block, fill in the for loops to apply 15 coherent stacks and 10 incoherent stacks to the data. How would you choose the best number of stacks to apply if I hadn't given you a number? How does the stacking change the interpretability of the data?"
   ]
  },
  {
   "cell_type": "code",
   "execution_count": null,
   "id": "f30dca3a-413e-47e8-b831-3a2d185b499e",
   "metadata": {},
   "outputs": [],
   "source": [
    "# Load raw data\n",
    "data = mat73.loadmat(\"/share/culberg/personal_data/riley/RadarCrashCourse/Data_20131127_01_010.mat\")\n",
    "\n",
    "# Calculate an initial reasonable range for the colorbar\n",
    "pow_max = 10*np.log10(np.max(np.ndarray.flatten(np.abs(data['Data'])**2)))\n",
    "\n",
    "# Calculate aspect ratio for good display\n",
    "aspect = 0.5*data['Data'].shape[1]/data['Data'].shape[0]\n",
    "\n",
    "# Plot the combined radargram\n",
    "plt.close(\"all\")\n",
    "fig1, ax1 = plt.subplots(layout=\"constrained\", figsize=(11, 4))\n",
    "im = ax1.imshow(10*np.log10(np.abs(data['Data'])**2),vmin=pow_max-130,vmax=pow_max)\n",
    "ax1.set_xlabel(\"Trace Number\")\n",
    "ax1.set_ylabel(\"Fast Time Sample\")\n",
    "ax1.set_ylim((1250, 0))\n",
    "cbar = fig1.colorbar(im, location='bottom')\n",
    "cbar.set_label(\"Power (dB)\")\n",
    "ax1.set_aspect(aspect)\n",
    "plt.show()"
   ]
  },
  {
   "cell_type": "code",
   "execution_count": null,
   "id": "07891e66-abe3-4d1e-9592-79f98f39d3da",
   "metadata": {},
   "outputs": [],
   "source": [
    "coh_win = 15\n",
    "incoh_win = 10\n",
    "\n",
    "coherent = np.zeros((data['Data'].shape[0], np.floor(data['Data'].shape[1]/coh_win).astype(int)), dtype='complex64')\n",
    "for k in range(0,coherent.shape[1]):\n",
    "    coherent[:,k] = ????? # Enter your code here\n",
    "\n",
    "incoherent = np.zeros((coherent.shape[0], np.floor(coherent.shape[1]/incoh_win).astype(int)), dtype='float64')\n",
    "for k in range(0,incoherent.shape[1]):\n",
    "    incoherent[:,k] = ????? # Enter your code here\n",
    "\n",
    "# Calculate an initial reasonable range for the colorbar\n",
    "pow_max = 10*np.log10(np.max(np.ndarray.flatten(incoherent)))\n",
    "\n",
    "# Calculate aspect ratio for good display\n",
    "aspect = 0.5*incoherent.shape[1]/incoherent.shape[0]\n",
    "\n",
    "# Plot the stacked radargram\n",
    "fig1, ax1 = plt.subplots(layout=\"constrained\", figsize=(11, 4))\n",
    "im = ax1.imshow(10*np.log10(incoherent),vmin=pow_max-130,vmax=pow_max)\n",
    "ax1.set_xlabel(\"Trace Number\")\n",
    "ax1.set_ylabel(\"Fast Time Sample\")\n",
    "ax1.set_ylim((1250, 0))\n",
    "cbar = fig1.colorbar(im, location='bottom')\n",
    "cbar.set_label(\"Power (dB)\")\n",
    "ax1.set_aspect(aspect)\n",
    "plt.show()"
   ]
  },
  {
   "cell_type": "markdown",
   "id": "1f053ff4-a206-45b1-a82d-7644795c4e7d",
   "metadata": {},
   "source": [
    "## Geometric Spreading Correction"
   ]
  },
  {
   "cell_type": "markdown",
   "id": "bf8fe069-5998-4561-adeb-7a73c21c0a88",
   "metadata": {},
   "source": [
    "The code below extracts the echo power of the surface and bed from your new, stacked radargram. In the code block that follows, write some new code to correct the surface and bed power for geometric spreading loss. "
   ]
  },
  {
   "cell_type": "code",
   "execution_count": null,
   "id": "432f1a25-e1aa-47b6-a5e1-4a3dd971d00d",
   "metadata": {},
   "outputs": [],
   "source": [
    "# Reorganize data so we can feed to to the surface retracker function\n",
    "radar_surf = {\"Data\": incoherent, \"Surface\": np.zeros(incoherent.shape[1]), \"Time\": data['Time']}\n",
    "radar_bed = {\"Data\": incoherent[750::, :], \"Surface\": np.zeros(incoherent.shape[1]), \"Time\": data['Time'][750::]}\n",
    "\n",
    "# Use the retracker function to find fast time sample where the bed and surface are located in each trace\n",
    "original_surface, surface = tracker.RetrackSurface_MacFerrin(radar_surf, 45)\n",
    "original_bed, bed = tracker.RetrackSurface_MacFerrin(radar_bed, 100)\n",
    "bed = bed + 750\n",
    "\n",
    "# Extract the surface and bed power at those locations\n",
    "surface_power = np.zeros(surface.shape)\n",
    "bed_power = np.zeros(bed.shape)\n",
    "for k in range(0,surface.shape[0]):\n",
    "    surface_power[k] = 10*np.log10(incoherent[surface[k],k])\n",
    "    bed_power[k] = 10*np.log10(incoherent[bed[k],k])\n",
    "\n",
    "# Plot the stacked radargram\n",
    "plt.close(\"all\")\n",
    "fig1, ax1 = plt.subplots(layout=\"constrained\", figsize=(11, 4))\n",
    "im = ax1.imshow(10*np.log10(incoherent),vmin=pow_max-130,vmax=pow_max)\n",
    "ax1.plot(surface, 'w', linestyle=\":\")\n",
    "ax1.plot(bed, 'w', linestyle=\":\")\n",
    "ax1.set_xlabel(\"Trace Number\")\n",
    "ax1.set_ylabel(\"Fast Time Sample\")\n",
    "ax1.set_ylim((1250, 0))\n",
    "cbar = fig1.colorbar(im, location='bottom')\n",
    "cbar.set_label(\"Power (dB)\")\n",
    "ax1.set_aspect(aspect)\n",
    "plt.show()\n",
    "\n",
    "# Plot the stacked radargram\n",
    "fig1, ax1 = plt.subplots(layout=\"constrained\", figsize=(11, 4))\n",
    "ax1.plot(surface_power, label=\"Surface Power\")\n",
    "ax1.plot(bed_power, label=\"Bed Power\")\n",
    "ax1.set_xlabel(\"Trace Number\")\n",
    "ax1.set_ylabel(\"Power (dB)\")\n",
    "plt.legend()\n",
    "plt.show()"
   ]
  },
  {
   "cell_type": "code",
   "execution_count": null,
   "id": "e9c76d48-6343-44ac-8e51-b687a68d1843",
   "metadata": {},
   "outputs": [],
   "source": [
    "# Write your geometric correction code here and plot the updated \n",
    "\n",
    "# Convert the surface and bed fast time samples to the actual two-way travel time to the surface and bed\n",
    "surf_time = np.zeros(surface.shape)\n",
    "bed_time = np.zeros(bed.shape)\n",
    "for k in range(0,surf_time.shape[0]):\n",
    "    surf_time = data['Time'][surface[k]]\n",
    "    bed_time = data['Time'][bed[k]]\n",
    "\n",
    "corr_surface_power = ????   # Enter code here to correct the surface power\n",
    "corr_bed_power = ???? # Enter code here to correct the bed power\n",
    "\n",
    "# Plot the stacked radargram\n",
    "plt.close(\"all\")\n",
    "fig1, ax1 = plt.subplots(layout=\"constrained\", figsize=(11, 4))\n",
    "ax1.plot(corr_surface_power, label=\"Surface Power\")\n",
    "ax1.plot(corr_bed_power, label=\"Bed Power\")\n",
    "ax1.set_xlabel(\"Trace Number\")\n",
    "ax1.set_ylabel(\"Power (dB)\")\n",
    "plt.legend()\n",
    "plt.show()"
   ]
  },
  {
   "cell_type": "markdown",
   "id": "4dd58dd7-5650-43e1-9b72-b7d968d7143d",
   "metadata": {},
   "source": [
    "## Theoretical Basal Reflectivity"
   ]
  },
  {
   "cell_type": "markdown",
   "id": "92042511-9e2d-4fe4-a90b-e7584abedbb6",
   "metadata": {},
   "source": [
    "Use the code block below like as a calculator to find the reflection coefficient for interfaces between meteoric ice and all the materials listed on the board."
   ]
  },
  {
   "cell_type": "code",
   "execution_count": 25,
   "id": "33fe6fa1-2aa4-4a09-8ad1-802edbd0160b",
   "metadata": {},
   "outputs": [],
   "source": [
    "## Calculate and print out your reflection coefficients here"
   ]
  },
  {
   "cell_type": "markdown",
   "id": "f6ae624e-42d6-4257-a96f-35cf009e8d7f",
   "metadata": {},
   "source": [
    "## Attenuation Correction Importance\n",
    "\n",
    "Use the code space below as a calculator for the on-the-board exercise about the importance of correcting for attenuation. "
   ]
  },
  {
   "cell_type": "code",
   "execution_count": null,
   "id": "e26e20d2-ca58-49ee-9c02-ee679532aedf",
   "metadata": {},
   "outputs": [],
   "source": [
    "## Calculate your attenuation corrections here"
   ]
  },
  {
   "cell_type": "markdown",
   "id": "d1cad07a-a6ba-4155-8f40-a06fadf1ef92",
   "metadata": {},
   "source": [
    "## Roughness and Basal Reflectivity    \n",
    "\n",
    "Use the code block below to calculate the power loss due to bed roughness for roughness values from 0 to 0.5 meters and radar center frequencies of 1 MHz, 60 MHz, 195 MHz, and 750 MHz. Plot all of the loss curves in dB on a single plot and limit the y axis to only go from -50 dB to 1 dB.\n",
    "\n",
    "Sometimes it is very advantageous to use a low frequency radar, even though the range resolution will be bad due to the low bandwidth. Can you give one reason why based on these plots?\n",
    "\n",
    "Hint: You can use sc.special.jv(order, data) to calculate the bessel function I_0 in the roughness correction formula."
   ]
  },
  {
   "cell_type": "code",
   "execution_count": null,
   "id": "4bdcd168-8cfc-499d-a10c-75c25716244c",
   "metadata": {},
   "outputs": [],
   "source": [
    "fc = np.array([1e6, 60e6, 195e6, 750e6])\n",
    "wavelength = c/fc                             # Array of radar wavelengths\n",
    "s = np.linspace(0,0.5,100)                    # Array of roughness values\n",
    "\n",
    "# Plot the roughness loss\n",
    "plt.close(\"all\")\n",
    "fig1, ax1 = plt.subplots(layout=\"constrained\", figsize=(11, 4))\n",
    "for k in wavelength:\n",
    "    # Enter code here to calculate the roughness loss for the given wavelength\n",
    "    loss = ???\n",
    "    ax1.plot(s, loss, label=str(k))\n",
    "ax1.set_xlabel(\"Trace Number\")\n",
    "ax1.set_ylabel(\"Power (dB)\")\n",
    "ax1.set_ylim((-50,1))\n",
    "plt.legend()\n",
    "plt.show()"
   ]
  },
  {
   "cell_type": "markdown",
   "id": "6398b8d9-5b49-41b2-88fc-48a59071a410",
   "metadata": {},
   "source": [
    "## Radar Link Budget and SNR"
   ]
  },
  {
   "cell_type": "markdown",
   "id": "eb2abf85-bb5a-4121-8e50-abeacd67cd48",
   "metadata": {},
   "source": [
    "Let's calculate a theoretical link budget for sounding the ice sheet bed in the East Antarctica using the radar equation. You can use the following values:\n",
    "\n",
    "Center Frequency: 195 MHz     \n",
    "Transmit Power: 1000 Watts     \n",
    "Transmit Antenna Gain: 5 dB      \n",
    "Receive Antenna Gain: 5 dB    \n",
    "Radar Clearance Above Surface: 500 m     \n",
    "Ice Thickness: 3000 m     \n",
    "Attenuation Rate: 10 dB/km    \n",
    "Birefringence Loss: 0 dB     \n",
    "Pulse Width: 10e-6 seconds    \n",
    "Bandwidth = 30 MHz     \n",
    "Gamma = use the reflectivity for frozen bedrock that you calculated above    \n",
    "Roughness = 0.2 m    \n",
    "Surface Transmission Coefficent: -0.088 dB    \n",
    "k: 1.38e-28    \n",
    "T: 1290   \n",
    "Fn: 5 \n",
    "\n",
    "Generally, we need an SNR of 5-10 dB to be confident that we can see a target. How will our radar sounder do in this area?"
   ]
  },
  {
   "cell_type": "code",
   "execution_count": null,
   "id": "5eff0ad8-802a-4b7e-9d5e-d225616457df",
   "metadata": {},
   "outputs": [],
   "source": [
    "## Calculate your link budget here and print out the final SNR\n"
   ]
  }
 ],
 "metadata": {
  "kernelspec": {
   "display_name": "Python 3 (ipykernel)",
   "language": "python",
   "name": "python3"
  },
  "language_info": {
   "codemirror_mode": {
    "name": "ipython",
    "version": 3
   },
   "file_extension": ".py",
   "mimetype": "text/x-python",
   "name": "python",
   "nbconvert_exporter": "python",
   "pygments_lexer": "ipython3",
   "version": "3.9.19"
  }
 },
 "nbformat": 4,
 "nbformat_minor": 5
}
